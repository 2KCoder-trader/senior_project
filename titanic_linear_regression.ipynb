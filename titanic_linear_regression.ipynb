{
 "cells": [
  {
   "cell_type": "code",
   "execution_count": 27,
   "id": "b778da31",
   "metadata": {},
   "outputs": [],
   "source": [
    "import pandas as pd\n",
    "import numpy as np\n",
    "from sklearn.linear_model import LinearRegression\n",
    "from sklearn.model_selection import train_test_split\n",
    "import matplotlib.pyplot as plt"
   ]
  },
  {
   "cell_type": "code",
   "execution_count": 49,
   "id": "08280ccc",
   "metadata": {},
   "outputs": [
    {
     "ename": "AttributeError",
     "evalue": "module 'pandas' has no attribute 'Dataframe'",
     "output_type": "error",
     "traceback": [
      "\u001b[1;31m---------------------------------------------------------------------------\u001b[0m",
      "\u001b[1;31mAttributeError\u001b[0m                            Traceback (most recent call last)",
      "\u001b[1;32mC:\\Users\\KAIDEN~1\\AppData\\Local\\Temp/ipykernel_7296/12125900.py\u001b[0m in \u001b[0;36m<module>\u001b[1;34m\u001b[0m\n\u001b[0;32m      1\u001b[0m \u001b[0mtitanic\u001b[0m \u001b[1;33m=\u001b[0m \u001b[0mpd\u001b[0m\u001b[1;33m.\u001b[0m\u001b[0mread_csv\u001b[0m\u001b[1;33m(\u001b[0m\u001b[1;34m'titanic.csv'\u001b[0m\u001b[1;33m)\u001b[0m\u001b[1;33m\u001b[0m\u001b[1;33m\u001b[0m\u001b[0m\n\u001b[0;32m      2\u001b[0m \u001b[0mdata\u001b[0m \u001b[1;33m=\u001b[0m \u001b[1;33m{\u001b[0m\u001b[1;34m'Age'\u001b[0m\u001b[1;33m:\u001b[0m\u001b[1;33m[\u001b[0m\u001b[1;33m]\u001b[0m\u001b[1;33m,\u001b[0m\u001b[1;34m'Fare'\u001b[0m\u001b[1;33m:\u001b[0m\u001b[1;33m[\u001b[0m\u001b[1;33m]\u001b[0m\u001b[1;33m}\u001b[0m\u001b[1;33m\u001b[0m\u001b[1;33m\u001b[0m\u001b[0m\n\u001b[1;32m----> 3\u001b[1;33m \u001b[0mnew_titanic\u001b[0m \u001b[1;33m=\u001b[0m \u001b[0mpd\u001b[0m\u001b[1;33m.\u001b[0m\u001b[0mDataframe\u001b[0m\u001b[1;33m(\u001b[0m\u001b[0mdata\u001b[0m\u001b[1;33m)\u001b[0m\u001b[1;33m\u001b[0m\u001b[1;33m\u001b[0m\u001b[0m\n\u001b[0m\u001b[0;32m      4\u001b[0m \u001b[0mtitanic\u001b[0m\u001b[1;33m.\u001b[0m\u001b[0mloc\u001b[0m\u001b[1;33m[\u001b[0m\u001b[0mtitanic\u001b[0m\u001b[1;33m[\u001b[0m\u001b[1;34m'Age'\u001b[0m\u001b[1;33m]\u001b[0m \u001b[1;33m<=\u001b[0m \u001b[1;36m10\u001b[0m\u001b[1;33m,\u001b[0m\u001b[1;34m'Age'\u001b[0m\u001b[1;33m]\u001b[0m \u001b[1;33m=\u001b[0m \u001b[1;32mNone\u001b[0m\u001b[1;33m\u001b[0m\u001b[1;33m\u001b[0m\u001b[0m\n\u001b[0;32m      5\u001b[0m \u001b[0mtitanic\u001b[0m\u001b[1;33m.\u001b[0m\u001b[0mloc\u001b[0m\u001b[1;33m[\u001b[0m\u001b[0mtitanic\u001b[0m\u001b[1;33m[\u001b[0m\u001b[1;34m'Age'\u001b[0m\u001b[1;33m]\u001b[0m\u001b[1;33m.\u001b[0m\u001b[0misnull\u001b[0m\u001b[1;33m(\u001b[0m\u001b[1;33m)\u001b[0m\u001b[1;33m,\u001b[0m\u001b[1;34m'Age'\u001b[0m\u001b[1;33m]\u001b[0m \u001b[1;33m=\u001b[0m \u001b[0mtitanic\u001b[0m\u001b[1;33m[\u001b[0m\u001b[1;34m'Age'\u001b[0m\u001b[1;33m]\u001b[0m\u001b[1;33m.\u001b[0m\u001b[0mmean\u001b[0m\u001b[1;33m(\u001b[0m\u001b[1;33m)\u001b[0m\u001b[1;33m\u001b[0m\u001b[1;33m\u001b[0m\u001b[0m\n",
      "\u001b[1;32m~\\anaconda3\\lib\\site-packages\\pandas\\__init__.py\u001b[0m in \u001b[0;36m__getattr__\u001b[1;34m(name)\u001b[0m\n\u001b[0;32m    242\u001b[0m         \u001b[1;32mreturn\u001b[0m \u001b[0m_SparseArray\u001b[0m\u001b[1;33m\u001b[0m\u001b[1;33m\u001b[0m\u001b[0m\n\u001b[0;32m    243\u001b[0m \u001b[1;33m\u001b[0m\u001b[0m\n\u001b[1;32m--> 244\u001b[1;33m     \u001b[1;32mraise\u001b[0m \u001b[0mAttributeError\u001b[0m\u001b[1;33m(\u001b[0m\u001b[1;34mf\"module 'pandas' has no attribute '{name}'\"\u001b[0m\u001b[1;33m)\u001b[0m\u001b[1;33m\u001b[0m\u001b[1;33m\u001b[0m\u001b[0m\n\u001b[0m\u001b[0;32m    245\u001b[0m \u001b[1;33m\u001b[0m\u001b[0m\n\u001b[0;32m    246\u001b[0m \u001b[1;33m\u001b[0m\u001b[0m\n",
      "\u001b[1;31mAttributeError\u001b[0m: module 'pandas' has no attribute 'Dataframe'"
     ]
    }
   ],
   "source": [
    "titanic = pd.read_csv('titanic.csv')\n",
    "titanic.loc[titanic['Age'] <= 10,'Age'] = None\n",
    "titanic.loc[titanic['Age'].isnull(),'Age'] = titanic['Age'].mean()\n",
    "titanic_unique = titanic['Age'].unique()"
   ]
  },
  {
   "cell_type": "code",
   "execution_count": 75,
   "id": "f26814e3",
   "metadata": {},
   "outputs": [
    {
     "data": {
      "text/plain": [
       "array([22.        , 38.        , 26.        , 35.        , 32.20307692,\n",
       "       54.        , 27.        , 14.        , 58.        , 20.        ,\n",
       "       39.        , 55.        , 31.        , 34.        , 15.        ,\n",
       "       28.        , 19.        , 40.        , 66.        , 42.        ,\n",
       "       21.        , 18.        , 49.        , 29.        , 65.        ,\n",
       "       28.5       , 11.        , 45.        , 17.        , 32.        ,\n",
       "       16.        , 25.        , 30.        , 33.        , 23.        ,\n",
       "       24.        , 46.        , 59.        , 71.        , 37.        ,\n",
       "       47.        , 14.5       , 70.5       , 32.5       , 12.        ,\n",
       "       36.5       , 51.        , 55.5       , 40.5       , 44.        ,\n",
       "       61.        , 56.        , 50.        , 36.        , 45.5       ,\n",
       "       20.5       , 62.        , 41.        , 52.        , 63.        ,\n",
       "       23.5       , 43.        , 60.        , 64.        , 13.        ,\n",
       "       48.        , 53.        , 57.        , 80.        , 70.        ,\n",
       "       24.5       , 30.5       , 34.5       , 74.        ])"
      ]
     },
     "execution_count": 75,
     "metadata": {},
     "output_type": "execute_result"
    }
   ],
   "source": [
    "# linear regression between between fare and age\n",
    "Age = []\n",
    "Fare = []\n",
    "titanic_unique"
   ]
  },
  {
   "cell_type": "code",
   "execution_count": 110,
   "id": "12950bbe",
   "metadata": {},
   "outputs": [],
   "source": [
    "for value in titanic_unique:\n",
    "    Age.append(value)\n",
    "    Fare.append(titanic.loc[titanic['Age'] == value,'Fare'].mean())\n",
    "Fare[4] = 30.46"
   ]
  },
  {
   "cell_type": "code",
   "execution_count": 114,
   "id": "6bf77540",
   "metadata": {},
   "outputs": [
    {
     "name": "stdout",
     "output_type": "stream",
     "text": [
      "<class 'pandas.core.frame.DataFrame'>\n",
      "RangeIndex: 296 entries, 0 to 295\n",
      "Data columns (total 2 columns):\n",
      " #   Column  Non-Null Count  Dtype  \n",
      "---  ------  --------------  -----  \n",
      " 0   Age     296 non-null    float64\n",
      " 1   Fare    296 non-null    float64\n",
      "dtypes: float64(2)\n",
      "memory usage: 4.8 KB\n"
     ]
    }
   ],
   "source": [
    "newTitanic = pd.DataFrame()\n",
    "newTitanic['Age'] = Age\n",
    "newTitanic['Fare'] = Fare\n",
    "newTitanic['Fare'] = newTitanic['Fare'].fillna(newTitanic['Fare'].mean())\n",
    "newTitanic.info()"
   ]
  },
  {
   "cell_type": "code",
   "execution_count": 118,
   "id": "b176febf",
   "metadata": {},
   "outputs": [],
   "source": [
    "X = newTitanic.iloc[:,:-1].values\n",
    "y = newTitanic.iloc[:,1].values"
   ]
  },
  {
   "cell_type": "code",
   "execution_count": 119,
   "id": "ea5ce33d",
   "metadata": {},
   "outputs": [],
   "source": [
    "\n",
    "X_train, X_test, y_train, y_test = train_test_split(X,y,test_size=1/3,random_state=0)\n"
   ]
  },
  {
   "cell_type": "code",
   "execution_count": 120,
   "id": "3ac5612b",
   "metadata": {},
   "outputs": [
    {
     "data": {
      "text/plain": [
       "LinearRegression()"
      ]
     },
     "execution_count": 120,
     "metadata": {},
     "output_type": "execute_result"
    }
   ],
   "source": [
    "regressor = LinearRegression()\n",
    "regressor.fit(X_train,y_train)"
   ]
  },
  {
   "cell_type": "code",
   "execution_count": 122,
   "id": "5a6e40f3",
   "metadata": {},
   "outputs": [
    {
     "data": {
      "text/plain": [
       "array([39.45364097, 30.55163215, 31.70027845, 39.1664794 , 43.04316066,\n",
       "       33.27966711, 28.25433955, 28.68508192, 36.58202522, 41.17661042,\n",
       "       44.04822617, 30.83879373, 32.70534396, 33.71040947, 36.8691868 ,\n",
       "       32.56176318, 31.55669766, 37.44350995, 38.0178331 , 39.74080255,\n",
       "       37.15634837, 43.18674144, 26.5313701 , 40.02796412, 40.60228727,\n",
       "       40.3151257 , 26.81853168, 31.1259553 , 37.73067152, 38.0178331 ,\n",
       "       39.45364097, 37.73067152, 43.04316066, 38.59215625, 26.24420853,\n",
       "       26.96211247, 38.30499467, 31.1259553 , 35.7205405 , 41.75093357,\n",
       "       31.41311688, 31.41311688, 43.04316066, 40.88944884, 26.81853168,\n",
       "       40.88944884, 29.11582428, 38.59215625, 31.98744003, 44.04822617,\n",
       "       31.1259553 , 42.89957987, 25.95704695, 27.10569325, 28.25433955,\n",
       "       45.77119562, 38.73573703, 31.70027845, 39.1664794 , 40.88944884,\n",
       "       35.14621735, 41.17661042, 27.6800164 , 29.83372821, 28.8286627 ,\n",
       "       37.44350995, 32.04575591, 29.11582428, 30.98237451, 35.7205405 ,\n",
       "       44.04822617, 32.2746016 , 39.74080255, 32.04575591, 33.99757105,\n",
       "       30.83879373, 26.5313701 , 39.45364097, 35.43337892, 29.40298585,\n",
       "       30.98237451, 30.26447058, 36.58202522, 41.75093357, 40.3151257 ,\n",
       "       37.15634837, 26.24420853, 30.83879373, 36.58202522, 34.42831341,\n",
       "       36.00770207, 35.86412129, 29.54656664, 41.75093357, 32.56176318,\n",
       "       41.46377199, 31.55669766, 33.13608632, 31.55669766])"
      ]
     },
     "execution_count": 122,
     "metadata": {},
     "output_type": "execute_result"
    }
   ],
   "source": [
    "y_pred = regressor.predict(X_test)\n",
    "y_pred"
   ]
  },
  {
   "cell_type": "code",
   "execution_count": 123,
   "id": "947ff52b",
   "metadata": {},
   "outputs": [
    {
     "data": {
      "text/plain": [
       "array([ 93.90166   ,  30.36133889,  37.00907059,  11.425     ,\n",
       "         7.75      ,  26.        ,  27.869496  ,   7.25      ,\n",
       "        37.89306667, 144.5       ,   7.775     ,  21.02016   ,\n",
       "         6.4375    ,  62.75150909,  59.92918333,  16.63638667,\n",
       "         7.9       ,  28.75238571,  51.4792    ,  10.375     ,\n",
       "        64.02583   ,  42.0792    ,  13.3646    ,  55.        ,\n",
       "        35.9       ,  24.01943333,  42.6257    ,  27.090825  ,\n",
       "        51.40278333,  51.4792    ,  93.90166   ,  51.40278333,\n",
       "         7.75      ,  23.25      ,  11.2417    ,  14.4542    ,\n",
       "        44.4770875 ,  27.090825  ,  36.81840833,  10.5       ,\n",
       "        25.541668  ,  25.541668  ,   7.75      ,  43.7729    ,\n",
       "        42.6257    ,  43.7729    ,  25.50478148,  23.25      ,\n",
       "        24.32337778,   7.775     ,  27.090825  ,  40.75      ,\n",
       "        54.240625  ,  49.65502   ,  27.869496  ,  30.        ,\n",
       "         8.05      ,  37.00907059,  11.425     ,  43.7729    ,\n",
       "        59.7975    , 144.5       ,  28.38942308,   8.05      ,\n",
       "        31.56562083,  28.75238571,  33.3213883 ,  25.50478148,\n",
       "        11.6646    ,  36.81840833,   7.775     ,  25.82555333,\n",
       "        10.375     ,  33.3213883 ,  36.6619    ,  21.02016   ,\n",
       "        13.3646    ,  93.90166   ,  29.75833333,  37.99472   ,\n",
       "        11.6646    ,  19.08680556,  37.89306667,  10.5       ,\n",
       "        24.01943333,  64.02583   ,  11.2417    ,  21.02016   ,\n",
       "        37.89306667,  11.125     ,  55.45833333,  17.8625    ,\n",
       "         7.2292    ,  10.5       ,  16.63638667,  32.09306667,\n",
       "         7.9       ,  59.96495909,   7.9       ])"
      ]
     },
     "execution_count": 123,
     "metadata": {},
     "output_type": "execute_result"
    }
   ],
   "source": [
    "y_test"
   ]
  },
  {
   "cell_type": "code",
   "execution_count": 125,
   "id": "777e6330",
   "metadata": {},
   "outputs": [
    {
     "data": {
      "image/png": "[encoded data removed]",
      "text/plain": [
       "<Figure size 432x288 with 1 Axes>"
      ]
     },
     "metadata": {
      "needs_background": "light"
     },
     "output_type": "display_data"
    }
   ],
   "source": [
    "plt.scatter(X_train, y_train, color='red') # plotting the observation line\n",
    " \n",
    "plt.plot(X_train, regressor.predict(X_train), color='blue') # plotting the regression line\n",
    " \n",
    "plt.title(\"Fare vs Age (Training set)\") # stating the title of the graph\n",
    " \n",
    "plt.xlabel(\"Age\") # adding the name of x-axis\n",
    "plt.ylabel(\"Fare\") # adding the name of y-axis\n",
    "plt.show() # specifies end of graph"
   ]
  },
  {
   "cell_type": "code",
   "execution_count": null,
   "id": "b0ab3d09",
   "metadata": {},
   "outputs": [],
   "source": []
  }
 ],
 "metadata": {
  "kernelspec": {
   "display_name": "Python 3 (ipykernel)",
   "language": "python",
   "name": "python3"
  },
  "language_info": {
   "codemirror_mode": {
    "name": "ipython",
    "version": 3
   },
   "file_extension": ".py",
   "mimetype": "text/x-python",
   "name": "python",
   "nbconvert_exporter": "python",
   "pygments_lexer": "ipython3",
   "version": "3.9.7"
  }
 },
 "nbformat": 4,
 "nbformat_minor": 5
}
